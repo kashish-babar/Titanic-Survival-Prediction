{
 "cells": [
  {
   "cell_type": "code",
   "execution_count": null,
   "id": "f0162a6d",
   "metadata": {
    "_cell_guid": "b1076dfc-b9ad-4769-8c92-a6c4dae69d19",
    "_uuid": "8f2839f25d086af736a60e9eeb907d3b93b6e0e5",
    "execution": {
     "iopub.execute_input": "2025-04-20T14:27:51.828450Z",
     "iopub.status.busy": "2025-04-20T14:27:51.828102Z",
     "iopub.status.idle": "2025-04-20T14:27:53.656687Z",
     "shell.execute_reply": "2025-04-20T14:27:53.655840Z"
    },
    "papermill": {
     "duration": 1.834451,
     "end_time": "2025-04-20T14:27:53.658479",
     "exception": false,
     "start_time": "2025-04-20T14:27:51.824028",
     "status": "completed"
    },
    "tags": []
   },
   "outputs": [
    {
     "name": "stdout",
     "output_type": "stream",
     "text": [
      "/kaggle/input/titanic/train.csv\n",
      "/kaggle/input/titanic/test.csv\n",
      "/kaggle/input/titanic/gender_submission.csv\n"
     ]
    }
   ],
   "source": [
    "import numpy as np  # linear algebra\n",
    "import pandas as pd  # data processing\n",
    "\n",
    "import os\n",
    "\n",
    "for dirname, _, filenames in os.walk(\"/kaggle/input\"):\n",
    "    for filename in filenames:\n",
    "        print(os.path.join(dirname, filename))\n"
   ]
  },
  {
   "cell_type": "code",
   "execution_count": null,
   "id": "8267f57b",
   "metadata": {
    "execution": {
     "iopub.execute_input": "2025-04-20T14:27:53.665482Z",
     "iopub.status.busy": "2025-04-20T14:27:53.664599Z",
     "iopub.status.idle": "2025-04-20T14:27:53.699101Z",
     "shell.execute_reply": "2025-04-20T14:27:53.698058Z"
    },
    "papermill": {
     "duration": 0.039183,
     "end_time": "2025-04-20T14:27:53.700575",
     "exception": false,
     "start_time": "2025-04-20T14:27:53.661392",
     "status": "completed"
    },
    "tags": []
   },
   "outputs": [
    {
     "name": "stdout",
     "output_type": "stream",
     "text": [
      "   PassengerId  Survived  Pclass  \\\n",
      "0            1         0       3   \n",
      "1            2         1       1   \n",
      "2            3         1       3   \n",
      "3            4         1       1   \n",
      "4            5         0       3   \n",
      "\n",
      "                                                Name     Sex   Age  SibSp  \\\n",
      "0                            Braund, Mr. Owen Harris    male  22.0      1   \n",
      "1  Cumings, Mrs. John Bradley (Florence Briggs Th...  female  38.0      1   \n",
      "2                             Heikkinen, Miss. Laina  female  26.0      0   \n",
      "3       Futrelle, Mrs. Jacques Heath (Lily May Peel)  female  35.0      1   \n",
      "4                           Allen, Mr. William Henry    male  35.0      0   \n",
      "\n",
      "   Parch            Ticket     Fare Cabin Embarked  \n",
      "0      0         A/5 21171   7.2500   NaN        S  \n",
      "1      0          PC 17599  71.2833   C85        C  \n",
      "2      0  STON/O2. 3101282   7.9250   NaN        S  \n",
      "3      0            113803  53.1000  C123        S  \n",
      "4      0            373450   8.0500   NaN        S  \n"
     ]
    }
   ],
   "source": [
    "# loading train_data\n",
    "train_data = pd.read_csv(\"/kaggle/input/titanic/train.csv\")\n",
    "print(train_data.head())"
   ]
  },
  {
   "cell_type": "code",
   "execution_count": null,
   "id": "f4e2dc69",
   "metadata": {
    "execution": {
     "iopub.execute_input": "2025-04-20T14:27:53.707500Z",
     "iopub.status.busy": "2025-04-20T14:27:53.706972Z",
     "iopub.status.idle": "2025-04-20T14:27:53.721698Z",
     "shell.execute_reply": "2025-04-20T14:27:53.720678Z"
    },
    "papermill": {
     "duration": 0.019425,
     "end_time": "2025-04-20T14:27:53.723169",
     "exception": false,
     "start_time": "2025-04-20T14:27:53.703744",
     "status": "completed"
    },
    "tags": []
   },
   "outputs": [
    {
     "name": "stdout",
     "output_type": "stream",
     "text": [
      "   PassengerId  Pclass                                          Name     Sex  \\\n",
      "0          892       3                              Kelly, Mr. James    male   \n",
      "1          893       3              Wilkes, Mrs. James (Ellen Needs)  female   \n",
      "2          894       2                     Myles, Mr. Thomas Francis    male   \n",
      "3          895       3                              Wirz, Mr. Albert    male   \n",
      "4          896       3  Hirvonen, Mrs. Alexander (Helga E Lindqvist)  female   \n",
      "\n",
      "    Age  SibSp  Parch   Ticket     Fare Cabin Embarked  \n",
      "0  34.5      0      0   330911   7.8292   NaN        Q  \n",
      "1  47.0      1      0   363272   7.0000   NaN        S  \n",
      "2  62.0      0      0   240276   9.6875   NaN        Q  \n",
      "3  27.0      0      0   315154   8.6625   NaN        S  \n",
      "4  22.0      1      1  3101298  12.2875   NaN        S  \n"
     ]
    }
   ],
   "source": [
    "# loading test_data\n",
    "test_data = pd.read_csv(\"/kaggle/input/titanic/test.csv\")\n",
    "print(test_data.head())"
   ]
  },
  {
   "cell_type": "code",
   "execution_count": null,
   "id": "3a566048",
   "metadata": {
    "execution": {
     "iopub.execute_input": "2025-04-20T14:27:53.729440Z",
     "iopub.status.busy": "2025-04-20T14:27:53.729120Z",
     "iopub.status.idle": "2025-04-20T14:27:53.741058Z",
     "shell.execute_reply": "2025-04-20T14:27:53.740087Z"
    },
    "papermill": {
     "duration": 0.016557,
     "end_time": "2025-04-20T14:27:53.742378",
     "exception": false,
     "start_time": "2025-04-20T14:27:53.725821",
     "status": "completed"
    },
    "tags": []
   },
   "outputs": [
    {
     "name": "stdout",
     "output_type": "stream",
     "text": [
      "74.20382165605095\n"
     ]
    }
   ],
   "source": [
    "# selecting the survived column for all rows where gender/sex is female\n",
    "women = train_data.loc[train_data.Sex == \"female\"][\"Survived\"]\n",
    "\n",
    "# survival rate\n",
    "rate_women = sum(women) / len(women)\n",
    "percentage_women = rate_women * 100\n",
    "print(percentage_women)"
   ]
  },
  {
   "cell_type": "code",
   "execution_count": null,
   "id": "9cd7c4da",
   "metadata": {
    "execution": {
     "iopub.execute_input": "2025-04-20T14:27:53.748781Z",
     "iopub.status.busy": "2025-04-20T14:27:53.748186Z",
     "iopub.status.idle": "2025-04-20T14:27:53.754526Z",
     "shell.execute_reply": "2025-04-20T14:27:53.753751Z"
    },
    "papermill": {
     "duration": 0.01074,
     "end_time": "2025-04-20T14:27:53.755785",
     "exception": false,
     "start_time": "2025-04-20T14:27:53.745045",
     "status": "completed"
    },
    "tags": []
   },
   "outputs": [
    {
     "name": "stdout",
     "output_type": "stream",
     "text": [
      "18.890814558058924\n"
     ]
    }
   ],
   "source": [
    "# selecting the survived column for all rows where gender/sex is male\n",
    "men = train_data.loc[train_data.Sex == \"male\"][\"Survived\"]\n",
    "\n",
    "# survival rate\n",
    "rate_men = sum(men) / len(men)\n",
    "percentage_men = rate_men * 100\n",
    "print(percentage_men)"
   ]
  },
  {
   "cell_type": "code",
   "execution_count": 6,
   "id": "d697b928",
   "metadata": {
    "execution": {
     "iopub.execute_input": "2025-04-20T14:27:53.762266Z",
     "iopub.status.busy": "2025-04-20T14:27:53.761703Z",
     "iopub.status.idle": "2025-04-20T14:27:53.771853Z",
     "shell.execute_reply": "2025-04-20T14:27:53.771038Z"
    },
    "papermill": {
     "duration": 0.015041,
     "end_time": "2025-04-20T14:27:53.773424",
     "exception": false,
     "start_time": "2025-04-20T14:27:53.758383",
     "status": "completed"
    },
    "tags": []
   },
   "outputs": [
    {
     "name": "stderr",
     "output_type": "stream",
     "text": [
      "/tmp/ipykernel_13/2496286982.py:2: FutureWarning: A value is trying to be set on a copy of a DataFrame or Series through chained assignment using an inplace method.\n",
      "The behavior will change in pandas 3.0. This inplace method will never work because the intermediate object on which we are setting values always behaves as a copy.\n",
      "\n",
      "For example, when doing 'df[col].method(value, inplace=True)', try using 'df.method({col: value}, inplace=True)' or df[col] = df[col].method(value) instead, to perform the operation inplace on the original object.\n",
      "\n",
      "\n",
      "  train_data[\"Age\"].fillna(train_data[\"Age\"].median(), inplace=True)\n",
      "/tmp/ipykernel_13/2496286982.py:3: FutureWarning: A value is trying to be set on a copy of a DataFrame or Series through chained assignment using an inplace method.\n",
      "The behavior will change in pandas 3.0. This inplace method will never work because the intermediate object on which we are setting values always behaves as a copy.\n",
      "\n",
      "For example, when doing 'df[col].method(value, inplace=True)', try using 'df.method({col: value}, inplace=True)' or df[col] = df[col].method(value) instead, to perform the operation inplace on the original object.\n",
      "\n",
      "\n",
      "  test_data[\"Age\"].fillna(train_data[\"Age\"].median(), inplace=True)\n",
      "/tmp/ipykernel_13/2496286982.py:5: FutureWarning: A value is trying to be set on a copy of a DataFrame or Series through chained assignment using an inplace method.\n",
      "The behavior will change in pandas 3.0. This inplace method will never work because the intermediate object on which we are setting values always behaves as a copy.\n",
      "\n",
      "For example, when doing 'df[col].method(value, inplace=True)', try using 'df.method({col: value}, inplace=True)' or df[col] = df[col].method(value) instead, to perform the operation inplace on the original object.\n",
      "\n",
      "\n",
      "  test_data[\"Fare\"].fillna(train_data[\"Fare\"].median(), inplace=True)\n",
      "/tmp/ipykernel_13/2496286982.py:6: FutureWarning: A value is trying to be set on a copy of a DataFrame or Series through chained assignment using an inplace method.\n",
      "The behavior will change in pandas 3.0. This inplace method will never work because the intermediate object on which we are setting values always behaves as a copy.\n",
      "\n",
      "For example, when doing 'df[col].method(value, inplace=True)', try using 'df.method({col: value}, inplace=True)' or df[col] = df[col].method(value) instead, to perform the operation inplace on the original object.\n",
      "\n",
      "\n",
      "  train_data[\"Embarked\"].fillna(train_data[\"Embarked\"].mode()[0], inplace=True)\n"
     ]
    }
   ],
   "source": [
    "# Fill missing values\n",
    "train_data[\"Age\"].fillna(train_data[\"Age\"].median(), inplace=True)\n",
    "test_data[\"Age\"].fillna(train_data[\"Age\"].median(), inplace=True)\n",
    "\n",
    "test_data[\"Fare\"].fillna(train_data[\"Fare\"].median(), inplace=True)\n",
    "train_data[\"Embarked\"].fillna(train_data[\"Embarked\"].mode()[0], inplace=True)\n"
   ]
  },
  {
   "cell_type": "code",
   "execution_count": null,
   "id": "9b08db4c",
   "metadata": {
    "execution": {
     "iopub.execute_input": "2025-04-20T14:27:53.780015Z",
     "iopub.status.busy": "2025-04-20T14:27:53.779422Z",
     "iopub.status.idle": "2025-04-20T14:27:53.793954Z",
     "shell.execute_reply": "2025-04-20T14:27:53.793203Z"
    },
    "papermill": {
     "duration": 0.019468,
     "end_time": "2025-04-20T14:27:53.795555",
     "exception": false,
     "start_time": "2025-04-20T14:27:53.776087",
     "status": "completed"
    },
    "tags": []
   },
   "outputs": [],
   "source": [
    "# Feature engineering: Extract Title from Name\n",
    "for dataset in [train_data, test_data]:\n",
    "    dataset[\"Title\"] = dataset[\"Name\"].str.extract(\" ([A-Za-z]+)\\.\", expand=False)\n",
    "    dataset[\"Title\"] = dataset[\"Title\"].replace(\n",
    "        [\n",
    "            \"Lady\",\n",
    "            \"Countess\",\n",
    "            \"Capt\",\n",
    "            \"Col\",\n",
    "            \"Don\",\n",
    "            \"Dr\",\n",
    "            \"Major\",\n",
    "            \"Rev\",\n",
    "            \"Sir\",\n",
    "            \"Jonkheer\",\n",
    "            \"Dona\",\n",
    "        ],\n",
    "        \"Rare\",\n",
    "    )\n",
    "    dataset[\"Title\"] = dataset[\"Title\"].replace(\"Mlle\", \"Miss\")\n",
    "    dataset[\"Title\"] = dataset[\"Title\"].replace(\"Ms\", \"Miss\")\n",
    "    dataset[\"Title\"] = dataset[\"Title\"].replace(\"Mme\", \"Mrs\")\n"
   ]
  },
  {
   "cell_type": "code",
   "execution_count": null,
   "id": "b773feb1",
   "metadata": {
    "papermill": {
     "duration": 0.002417,
     "end_time": "2025-04-20T14:27:53.802040",
     "exception": false,
     "start_time": "2025-04-20T14:27:53.799623",
     "status": "completed"
    },
    "tags": []
   },
   "outputs": [],
   "source": []
  },
  {
   "cell_type": "code",
   "execution_count": null,
   "id": "2fb95c3c",
   "metadata": {
    "execution": {
     "iopub.execute_input": "2025-04-20T14:27:53.808790Z",
     "iopub.status.busy": "2025-04-20T14:27:53.808111Z",
     "iopub.status.idle": "2025-04-20T14:27:56.751352Z",
     "shell.execute_reply": "2025-04-20T14:27:56.750349Z"
    },
    "papermill": {
     "duration": 2.948165,
     "end_time": "2025-04-20T14:27:56.752842",
     "exception": false,
     "start_time": "2025-04-20T14:27:53.804677",
     "status": "completed"
    },
    "tags": []
   },
   "outputs": [
    {
     "name": "stdout",
     "output_type": "stream",
     "text": [
      "[0 0 0 0 1 0 0 0 1 0 0 0 1 0 1 1 0 0 0 1 0 1 1 0 1 0 1 0 0 0 0 0 1 0 0 0 0\n",
      " 0 0 0 0 0 0 1 1 0 0 0 1 1 0 0 1 1 0 0 0 0 0 1 0 0 0 1 1 1 1 0 0 1 1 0 0 0\n",
      " 1 0 0 1 0 1 1 0 0 0 0 0 1 0 1 1 1 0 1 0 0 0 1 0 1 0 1 0 0 0 1 0 0 0 0 0 0\n",
      " 1 1 1 1 0 0 1 0 1 1 0 1 0 0 1 0 1 0 0 0 0 0 0 0 0 0 0 0 0 0 1 0 0 0 0 0 0\n",
      " 0 0 1 0 0 1 0 0 1 1 0 1 1 1 1 0 0 1 0 0 1 0 0 0 0 0 0 1 1 0 1 1 0 0 1 0 1\n",
      " 0 1 0 0 0 0 0 1 0 1 0 1 1 0 1 1 1 1 1 0 0 0 0 1 0 0 0 0 1 0 0 1 0 1 0 1 0\n",
      " 1 0 1 1 0 1 0 0 0 1 0 0 0 0 0 0 1 1 1 1 0 0 1 0 1 0 1 1 1 0 0 0 0 0 0 0 1\n",
      " 0 0 0 1 1 0 0 0 0 0 0 0 0 1 1 0 1 0 0 0 0 0 1 1 1 1 0 0 0 0 0 0 0 0 0 0 0\n",
      " 1 0 0 0 0 0 0 0 1 1 0 1 0 0 0 0 0 0 1 1 0 0 0 0 0 0 0 0 1 0 1 0 0 0 1 0 0\n",
      " 1 0 0 0 0 0 1 0 0 0 1 1 1 0 1 0 1 1 0 0 0 1 0 1 0 0 1 0 1 1 0 1 0 0 1 1 0\n",
      " 0 1 0 0 1 1 0 0 0 0 0 0 1 1 0 1 0 0 0 0 0 1 1 0 0 1 0 1 0 0 1 0 1 0 0 0 0\n",
      " 0 1 1 1 1 0 0 1 0 0 1]\n",
      "Cross-validated accuracy scores: [0.81005587 0.81460674 0.8258427  0.78651685 0.84269663]\n",
      "Average accuracy: 81.59%\n",
      "Your submission was successfully saved!\n"
     ]
    }
   ],
   "source": [
    "from sklearn.ensemble import RandomForestClassifier\n",
    "import pandas as pd\n",
    "\n",
    "features = [\"Pclass\", \"Sex\", \"SibSp\", \"Parch\", \"Age\", \"Fare\", \"Embarked\", \"Title\"]\n",
    "X_train = pd.get_dummies(train_data[features])\n",
    "X_test = pd.get_dummies(test_data[features])\n",
    "\n",
    "\n",
    "# Align train and test sets\n",
    "X_train, X_test = X_train.align(X_test, join=\"left\", axis=1, fill_value=0)\n",
    "\n",
    "Y_train = train_data[\"Survived\"]\n",
    "\n",
    "# model training\n",
    "model = RandomForestClassifier(n_estimators=100, max_depth=7, random_state=1)\n",
    "model.fit(X_train, Y_train)\n",
    "predictions = model.predict(X_test)\n",
    "print(predictions)\n",
    "\n",
    "from sklearn.model_selection import cross_val_score\n",
    "\n",
    "scores = cross_val_score(model, X_train, Y_train, cv=5)\n",
    "print(\"Cross-validated accuracy scores:\", scores)\n",
    "print(\"Average accuracy: {:.2f}%\".format(scores.mean() * 100))\n",
    "\n",
    "\n",
    "output = pd.DataFrame({\"PassengerId\": test_data.PassengerId, \"Survived\": predictions})\n",
    "output.to_csv(\"submission.csv\", index=False)\n",
    "print(\"Your submission was successfully saved!\")\n"
   ]
  }
 ],
 "metadata": {
  "kaggle": {
   "accelerator": "none",
   "dataSources": [
    {
     "databundleVersionId": 26502,
     "sourceId": 3136,
     "sourceType": "competition"
    }
   ],
   "dockerImageVersionId": 31012,
   "isGpuEnabled": false,
   "isInternetEnabled": false,
   "language": "python",
   "sourceType": "notebook"
  },
  "kernelspec": {
   "display_name": "Python 3",
   "language": "python",
   "name": "python3"
  },
  "language_info": {
   "codemirror_mode": {
    "name": "ipython",
    "version": 3
   },
   "file_extension": ".py",
   "mimetype": "text/x-python",
   "name": "python",
   "nbconvert_exporter": "python",
   "pygments_lexer": "ipython3",
   "version": "3.11.11"
  },
  "papermill": {
   "default_parameters": {},
   "duration": 10.336948,
   "end_time": "2025-04-20T14:27:57.374810",
   "environment_variables": {},
   "exception": null,
   "input_path": "__notebook__.ipynb",
   "output_path": "__notebook__.ipynb",
   "parameters": {},
   "start_time": "2025-04-20T14:27:47.037862",
   "version": "2.6.0"
  }
 },
 "nbformat": 4,
 "nbformat_minor": 5
}
